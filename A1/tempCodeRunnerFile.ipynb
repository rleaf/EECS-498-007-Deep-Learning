x_test, k=k)
print('wadu', y_train.dtype)
print('wadu2', y_test.dtype)